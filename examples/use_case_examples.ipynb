{
 "cells": [
  {
   "cell_type": "markdown",
   "id": "8a0aec14",
   "metadata": {},
   "source": [
    "# Use case examples\n",
    "This notebook demonstrates different use-cases for QC Lab"
   ]
  },
  {
   "cell_type": "markdown",
   "id": "a5bf4380",
   "metadata": {},
   "source": [
    "## Running a default simulation"
   ]
  },
  {
   "cell_type": "code",
   "execution_count": 1,
   "id": "33072556",
   "metadata": {},
   "outputs": [
    {
     "name": "stderr",
     "output_type": "stream",
     "text": [
      "100%|██████████| 10001/10001 [00:03<00:00, 2594.74it/s]\n",
      "100%|██████████| 10001/10001 [00:01<00:00, 6106.08it/s]\n",
      "100%|██████████| 10001/10001 [00:01<00:00, 6077.63it/s]\n",
      "100%|██████████| 10001/10001 [00:02<00:00, 4939.13it/s]\n",
      "100%|██████████| 10001/10001 [00:03<00:00, 3225.85it/s]\n",
      "100%|██████████| 10001/10001 [00:03<00:00, 3076.64it/s]\n",
      "100%|██████████| 10001/10001 [00:03<00:00, 3017.87it/s]\n",
      "100%|██████████| 10001/10001 [00:03<00:00, 2942.12it/s]\n"
     ]
    }
   ],
   "source": [
    "from qc_lab import Simulation\n",
    "from qc_lab.dynamics import serial_driver, parallel_driver_multiprocessing\n",
    "from qc_lab.models import SpinBoson\n",
    "from qc_lab.algorithms import MeanField\n",
    "import numpy as np\n",
    "\n",
    "sim_settings = {\"num_trajs\":100,\"batch_size\":25}\n",
    "\n",
    "sim = Simulation(sim_settings)\n",
    "sim.model = SpinBoson()\n",
    "sim.algorithm = MeanField()\n",
    "sim.initial_state.wf_db = np.array([1.0, 0.0], dtype=complex)\n",
    "data = serial_driver(sim)\n",
    "data = parallel_driver_multiprocessing(sim)"
   ]
  },
  {
   "cell_type": "markdown",
   "id": "dc6ecc9e",
   "metadata": {},
   "source": [
    "## Changing the model ingredients"
   ]
  },
  {
   "cell_type": "code",
   "execution_count": 2,
   "id": "26072e56",
   "metadata": {},
   "outputs": [
    {
     "name": "stdout",
     "output_type": "stream",
     "text": [
      "('init_classical', <function init_classical_boltzmann_harmonic at 0x74e6653544c0>)\n",
      "[('init_classical', <function init_classical_wigner_harmonic at 0x74e665354550>), ('h_q', <function h_q_two_level at 0x74e66532be20>), ('h_qc', <function h_qc_diagonal_linear at 0x74e665354160>), ('h_c', <function h_c_harmonic at 0x74e66532bb50>), ('dh_qc_dzc', <function dh_qc_dzc_diagonal_linear at 0x74e6653543a0>), ('dh_c_dzc', <function dh_c_dzc_harmonic at 0x74e66532bbe0>), ('init_classical', <function init_classical_boltzmann_harmonic at 0x74e6653544c0>), ('hop', <function hop_harmonic at 0x74e665354430>)]\n",
      "('dh_c_dzc', <function dh_c_dzc_harmonic at 0x74e66532bbe0>)\n"
     ]
    },
    {
     "name": "stderr",
     "output_type": "stream",
     "text": [
      "100%|██████████| 10001/10001 [00:02<00:00, 4749.83it/s]\n",
      "100%|██████████| 10001/10001 [00:01<00:00, 5058.19it/s]\n",
      "100%|██████████| 10001/10001 [00:02<00:00, 4992.16it/s]\n",
      "100%|██████████| 10001/10001 [00:02<00:00, 4963.20it/s]\n",
      "100%|██████████| 10001/10001 [00:03<00:00, 3239.18it/s]\n",
      "100%|██████████| 10001/10001 [00:03<00:00, 3127.84it/s]\n",
      "100%|██████████| 10001/10001 [00:03<00:00, 3036.51it/s]\n",
      "100%|██████████| 10001/10001 [00:03<00:00, 2929.23it/s]\n"
     ]
    }
   ],
   "source": [
    "from qc_lab import Simulation\n",
    "from qc_lab.dynamics import serial_driver, parallel_driver_multiprocessing\n",
    "from qc_lab.models import SpinBoson\n",
    "from qc_lab.algorithms import MeanField\n",
    "import numpy as np\n",
    "from qc_lab.ingredients import init_classical_wigner_harmonic\n",
    "\n",
    "sim_settings = {\"num_trajs\":100,\"batch_size\":25}\n",
    "\n",
    "sim = Simulation(sim_settings)\n",
    "sim.model = SpinBoson()\n",
    "sim.algorithm = MeanField()\n",
    "sim.initial_state.wf_db = np.array([1.0, 0.0], dtype=complex)\n",
    "print(sim.model.ingredients[5])\n",
    "# change the init_classical ingredient from boltzmann to wigner.\n",
    "sim.model.ingredients.insert(0,('init_classical', init_classical_wigner_harmonic))\n",
    "print(sim.model.ingredients)\n",
    "print(sim.model.ingredients[5])\n",
    "data = serial_driver(sim)\n",
    "data = parallel_driver_multiprocessing(sim)"
   ]
  },
  {
   "cell_type": "markdown",
   "id": "15fa2a0e",
   "metadata": {},
   "source": [
    "## Changing algorithm tasks"
   ]
  },
  {
   "cell_type": "code",
   "execution_count": null,
   "id": "4ce1caa7",
   "metadata": {},
   "outputs": [
    {
     "name": "stdout",
     "output_type": "stream",
     "text": [
      "[<function update_t at 0x74e665357010>, <function update_dm_db_mf at 0x74e665357250>, <function MeanField._update_quantum_energy at 0x74e6653577f0>, <function MeanField._update_classical_energy at 0x74e665357880>]\n",
      "[<function update_t at 0x74e665357010>, <function update_dm_db_mf at 0x74e665357250>, <function MeanField._update_quantum_energy at 0x74e6653577f0>, <function MeanField._update_classical_energy at 0x74e665357880>, <function my_task at 0x74e64c0d5090>]\n"
     ]
    },
    {
     "name": "stderr",
     "output_type": "stream",
     "text": [
      "100%|██████████| 10001/10001 [00:02<00:00, 4460.03it/s]\n",
      "100%|██████████| 10001/10001 [00:02<00:00, 4764.88it/s]\n",
      "100%|██████████| 10001/10001 [00:02<00:00, 4645.42it/s]\n",
      "100%|██████████| 10001/10001 [00:02<00:00, 4788.66it/s]\n",
      "100%|██████████| 10001/10001 [00:02<00:00, 3626.53it/s]\n",
      "100%|██████████| 10001/10001 [00:02<00:00, 3380.80it/s]\n",
      "100%|██████████| 10001/10001 [00:03<00:00, 3316.32it/s]\n",
      "100%|██████████| 10001/10001 [00:03<00:00, 3102.15it/s]\n"
     ]
    }
   ],
   "source": [
    "from qc_lab import Simulation\n",
    "from qc_lab.dynamics import serial_driver, parallel_driver_multiprocessing\n",
    "from qc_lab.models import SpinBoson\n",
    "from qc_lab.algorithms import MeanField\n",
    "import numpy as np\n",
    "\n",
    "sim_settings = {\"num_trajs\":100,\"batch_size\":25}\n",
    "\n",
    "sim = Simulation(sim_settings)\n",
    "sim.model = SpinBoson()\n",
    "sim.algorithm = MeanField()\n",
    "sim.initial_state.wf_db = np.array([1.0, 0.0], dtype=complex)\n",
    "print(sim.algorithm.collect_recipe)\n",
    "def my_task(algorithm, sim, parameters, state):\n",
    "    # we can just calculate something simple like the response function\n",
    "    if sim.t_ind == 0:\n",
    "        state.wf_db_0 = np.copy(state.wf_db)\n",
    "    state.response = np.sum(np.conj(state.wf_db_0) * state.wf_db, axis=-1)\n",
    "    return parameters, state\n",
    "sim.algorithm.collect_recipe.append(my_task)\n",
    "sim.algorithm.collect_variables.append('response')\n",
    "print(sim.algorithm.collect_recipe)\n",
    "data = serial_driver(sim)\n",
    "data = parallel_driver_multiprocessing(sim)"
   ]
  },
  {
   "cell_type": "markdown",
   "id": "e92ae165",
   "metadata": {},
   "source": [
    "## User supplied seeds\n",
    "\n"
   ]
  },
  {
   "cell_type": "code",
   "execution_count": 4,
   "id": "3a2c7afb",
   "metadata": {},
   "outputs": [
    {
     "name": "stderr",
     "output_type": "stream",
     "text": [
      "/home/akrotz/Research/qc_lab/qc_lab/dynamics/serial_driver.py:29: UserWarning: Setting sim.settings.num_trajs to the number of provided seeds.\n",
      "  warnings.warn(\n",
      "100%|██████████| 10001/10001 [00:02<00:00, 4680.13it/s]\n",
      "100%|██████████| 10001/10001 [00:02<00:00, 4765.10it/s]\n",
      "100%|██████████| 10001/10001 [00:02<00:00, 4623.93it/s]\n",
      "100%|██████████| 10001/10001 [00:02<00:00, 4778.80it/s]"
     ]
    },
    {
     "name": "stdout",
     "output_type": "stream",
     "text": [
      "validated serial_driver with seeds\n"
     ]
    },
    {
     "name": "stderr",
     "output_type": "stream",
     "text": [
      "\n",
      "/home/akrotz/Research/qc_lab/qc_lab/dynamics/parallel_driver_multiprocessing.py:49: UserWarning: Setting sim.settings.num_trajs to the number of provided seeds.\n",
      "  warnings.warn(\n",
      "100%|██████████| 10001/10001 [00:03<00:00, 3285.30it/s]\n",
      "100%|██████████| 10001/10001 [00:03<00:00, 3264.32it/s]\n",
      "100%|██████████| 10001/10001 [00:03<00:00, 3150.92it/s]\n",
      "100%|██████████| 10001/10001 [00:03<00:00, 2896.53it/s]\n"
     ]
    },
    {
     "name": "stdout",
     "output_type": "stream",
     "text": [
      "validated parallel_driver_multiprocessing with seeds\n",
      "validated data consistency between serial and parallel drivers\n"
     ]
    }
   ],
   "source": [
    "np.random.seed(1234)\n",
    "\n",
    "my_seeds = np.unique(np.random.randint(0,10000, size=100))\n",
    "\n",
    "from qc_lab import Simulation\n",
    "from qc_lab.dynamics import serial_driver, parallel_driver_multiprocessing\n",
    "from qc_lab.models import SpinBoson\n",
    "from qc_lab.algorithms import MeanField\n",
    "import numpy as np\n",
    "\n",
    "sim_settings = {\"num_trajs\":100,\"batch_size\":25}\n",
    "\n",
    "sim = Simulation(sim_settings)\n",
    "sim.model = SpinBoson()\n",
    "sim.algorithm = MeanField()\n",
    "sim.initial_state.wf_db = np.array([1.0, 0.0], dtype=complex)\n",
    "data_serial = serial_driver(sim, seeds=my_seeds)\n",
    "\n",
    "assert np.all(data_serial.data_dict['seed'] == my_seeds)\n",
    "print('validated serial_driver with seeds')\n",
    "\n",
    "data_parallel = parallel_driver_multiprocessing(sim, seeds=my_seeds)\n",
    "\n",
    "assert np.all(data_parallel.data_dict['seed'] == my_seeds)\n",
    "print('validated parallel_driver_multiprocessing with seeds')\n",
    "\n",
    "for key, val in data_serial.data_dict.items():\n",
    "    if key in data_parallel.data_dict:\n",
    "        assert np.all(val == data_parallel.data_dict[key]), f\"Mismatch in {key} between serial and parallel drivers\"\n",
    "print('validated data consistency between serial and parallel drivers')\n"
   ]
  },
  {
   "cell_type": "markdown",
   "id": "3826a1a3",
   "metadata": {},
   "source": [
    "## User supplied data object"
   ]
  },
  {
   "cell_type": "code",
   "execution_count": 5,
   "id": "36771680",
   "metadata": {},
   "outputs": [
    {
     "name": "stderr",
     "output_type": "stream",
     "text": [
      "100%|██████████| 10001/10001 [00:02<00:00, 4766.37it/s]\n",
      "100%|██████████| 10001/10001 [00:01<00:00, 5098.54it/s]\n",
      "100%|██████████| 10001/10001 [00:02<00:00, 4817.96it/s]\n",
      "100%|██████████| 10001/10001 [00:02<00:00, 4810.31it/s]\n",
      "100%|██████████| 10001/10001 [00:02<00:00, 4820.77it/s]\n",
      "100%|██████████| 10001/10001 [00:02<00:00, 4726.45it/s]\n",
      "100%|██████████| 10001/10001 [00:02<00:00, 4761.89it/s]\n",
      "100%|██████████| 10001/10001 [00:02<00:00, 4806.38it/s]\n",
      "100%|██████████| 10001/10001 [00:01<00:00, 5147.88it/s]\n",
      "100%|██████████| 10001/10001 [00:01<00:00, 5116.04it/s]\n",
      "100%|██████████| 10001/10001 [00:01<00:00, 5857.86it/s]\n",
      "100%|██████████| 10001/10001 [00:01<00:00, 5435.64it/s]\n",
      "100%|██████████| 10001/10001 [00:01<00:00, 5732.43it/s]\n",
      "100%|██████████| 10001/10001 [00:01<00:00, 5354.29it/s]\n",
      "100%|██████████| 10001/10001 [00:01<00:00, 5611.38it/s]\n",
      "100%|██████████| 10001/10001 [00:01<00:00, 5214.79it/s]"
     ]
    },
    {
     "name": "stdout",
     "output_type": "stream",
     "text": [
      "validated data consistency between supplied data and new simulation\n"
     ]
    },
    {
     "name": "stderr",
     "output_type": "stream",
     "text": [
      "\n"
     ]
    }
   ],
   "source": [
    "## Serial\n",
    "from qc_lab import Simulation\n",
    "from qc_lab.dynamics import serial_driver, parallel_driver_multiprocessing\n",
    "from qc_lab.models import SpinBoson\n",
    "from qc_lab.algorithms import MeanField\n",
    "import numpy as np\n",
    "\n",
    "sim_settings = {\"num_trajs\":100,\"batch_size\":25}\n",
    "\n",
    "sim = Simulation(sim_settings)\n",
    "sim.model = SpinBoson()\n",
    "sim.algorithm = MeanField()\n",
    "sim.initial_state.wf_db = np.array([1.0, 0.0], dtype=complex)\n",
    "data_1 = serial_driver(sim)\n",
    "data_2 = serial_driver(sim, data=data_1)\n",
    "\n",
    "sim_settings = {\"num_trajs\":200,\"batch_size\":25}\n",
    "\n",
    "sim = Simulation(sim_settings)\n",
    "sim.model = SpinBoson()\n",
    "sim.algorithm = MeanField()\n",
    "sim.initial_state.wf_db = np.array([1.0, 0.0], dtype=complex)\n",
    "data_3 = serial_driver(sim)\n",
    "\n",
    "for key, val in data_3.data_dict.items():\n",
    "    if key in data_2.data_dict:\n",
    "        assert np.all(val == data_2.data_dict[key]), f\"Mismatch in {key}\"\n",
    "print('validated data consistency between supplied data and new simulation')"
   ]
  },
  {
   "cell_type": "code",
   "execution_count": 6,
   "id": "abfecc1c",
   "metadata": {},
   "outputs": [
    {
     "name": "stderr",
     "output_type": "stream",
     "text": [
      "100%|██████████| 10001/10001 [00:02<00:00, 4060.03it/s]\n",
      "100%|██████████| 10001/10001 [00:02<00:00, 3528.48it/s]\n",
      "100%|██████████| 10001/10001 [00:02<00:00, 3505.66it/s]\n",
      "100%|██████████| 10001/10001 [00:02<00:00, 3438.26it/s]\n",
      "100%|██████████| 10001/10001 [00:02<00:00, 3794.53it/s]\n",
      "100%|██████████| 10001/10001 [00:02<00:00, 3732.49it/s]\n",
      "100%|██████████| 10001/10001 [00:02<00:00, 3432.39it/s]\n",
      "100%|██████████| 10001/10001 [00:02<00:00, 3335.17it/s]\n"
     ]
    },
    {
     "name": "stdout",
     "output_type": "stream",
     "text": [
      "200\n"
     ]
    },
    {
     "name": "stderr",
     "output_type": "stream",
     "text": [
      "100%|██████████| 10001/10001 [00:03<00:00, 2515.20it/s]\n",
      "100%|██████████| 10001/10001 [00:04<00:00, 2433.90it/s]\n",
      "100%|██████████| 10001/10001 [00:04<00:00, 2426.12it/s]\n",
      "100%|██████████| 10001/10001 [00:04<00:00, 2414.57it/s]\n",
      "100%|██████████| 10001/10001 [00:04<00:00, 2382.98it/s]\n",
      "100%|██████████| 10001/10001 [00:04<00:00, 2386.53it/s]\n",
      "100%|██████████| 10001/10001 [00:04<00:00, 2372.90it/s]\n",
      "100%|██████████| 10001/10001 [00:04<00:00, 2351.74it/s]\n"
     ]
    },
    {
     "name": "stdout",
     "output_type": "stream",
     "text": [
      "Validating seed\n",
      "Validating norm_factor\n",
      "Validating t\n",
      "Validating dm_db\n",
      "Validating classical_energy\n",
      "Validating quantum_energy\n",
      "validated data consistency between supplied data and new simulation\n"
     ]
    }
   ],
   "source": [
    "## Parallel\n",
    "from qc_lab import Simulation\n",
    "from qc_lab.dynamics import serial_driver, parallel_driver_multiprocessing\n",
    "from qc_lab.models import SpinBoson\n",
    "from qc_lab.algorithms import MeanField\n",
    "import numpy as np\n",
    "\n",
    "sim_settings = {\"num_trajs\":100,\"batch_size\":25}\n",
    "\n",
    "sim = Simulation(sim_settings)\n",
    "sim.model = SpinBoson()\n",
    "sim.algorithm = MeanField()\n",
    "sim.initial_state.wf_db = np.array([1.0, 0.0], dtype=complex)\n",
    "data_1 = parallel_driver_multiprocessing(sim)\n",
    "data_2 = parallel_driver_multiprocessing(sim, data=data_1)\n",
    "print(len(data_2.data_dict['seed']))\n",
    "sim_settings = {\"num_trajs\":200,\"batch_size\":25}\n",
    "\n",
    "sim = Simulation(sim_settings)\n",
    "sim.model = SpinBoson()\n",
    "sim.algorithm = MeanField()\n",
    "sim.initial_state.wf_db = np.array([1.0, 0.0], dtype=complex)\n",
    "data_3 = parallel_driver_multiprocessing(sim)\n",
    "\n",
    "for key, val in data_3.data_dict.items():\n",
    "    if key in data_2.data_dict:\n",
    "        print(f\"Validating {key}\")\n",
    "        assert np.all(val == data_2.data_dict[key]), f\"Mismatch in {key}\"\n",
    "print('validated data consistency between supplied data and new simulation')"
   ]
  },
  {
   "cell_type": "code",
   "execution_count": null,
   "id": "55a72a91",
   "metadata": {},
   "outputs": [],
   "source": []
  }
 ],
 "metadata": {
  "kernelspec": {
   "display_name": ".venv",
   "language": "python",
   "name": "python3"
  },
  "language_info": {
   "codemirror_mode": {
    "name": "ipython",
    "version": 3
   },
   "file_extension": ".py",
   "mimetype": "text/x-python",
   "name": "python",
   "nbconvert_exporter": "python",
   "pygments_lexer": "ipython3",
   "version": "3.10.12"
  }
 },
 "nbformat": 4,
 "nbformat_minor": 5
}

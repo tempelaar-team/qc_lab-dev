{
 "cells": [
  {
   "cell_type": "markdown",
   "id": "8a0aec14",
   "metadata": {},
   "source": [
    "# Use case examples\n",
    "This notebook demonstrates different use-cases for QC Lab"
   ]
  },
  {
   "cell_type": "markdown",
   "id": "a5bf4380",
   "metadata": {},
   "source": [
    "## Running a default simulation"
   ]
  },
  {
   "cell_type": "code",
   "execution_count": 1,
   "id": "33072556",
   "metadata": {},
   "outputs": [
    {
     "name": "stderr",
     "output_type": "stream",
     "text": [
      "100%|██████████| 10001/10001 [00:04<00:00, 2156.27it/s]\n",
      "100%|██████████| 10001/10001 [00:01<00:00, 5637.09it/s]\n",
      "100%|██████████| 10001/10001 [00:01<00:00, 5769.53it/s]\n",
      "100%|██████████| 10001/10001 [00:01<00:00, 5747.84it/s]\n",
      "100%|██████████| 10001/10001 [00:02<00:00, 4132.81it/s]\n",
      "100%|██████████| 10001/10001 [00:02<00:00, 4034.45it/s]\n",
      "100%|██████████| 10001/10001 [00:02<00:00, 3945.99it/s]\n",
      "100%|██████████| 10001/10001 [00:02<00:00, 3741.31it/s]\n"
     ]
    }
   ],
   "source": [
    "from qclab import Simulation\n",
    "from qclab.dynamics import serial_driver, parallel_driver_multiprocessing\n",
    "from qclab.models import SpinBoson\n",
    "from qclab.algorithms import MeanField\n",
    "import numpy as np\n",
    "\n",
    "sim_settings = {\"num_trajs\":100,\"batch_size\":25}\n",
    "\n",
    "sim = Simulation(sim_settings)\n",
    "sim.model = SpinBoson()\n",
    "sim.algorithm = MeanField()\n",
    "sim.initial_state.wf_db = np.array([1.0, 0.0], dtype=complex)\n",
    "data = serial_driver(sim)\n",
    "data = parallel_driver_multiprocessing(sim)"
   ]
  },
  {
   "cell_type": "markdown",
   "id": "dc6ecc9e",
   "metadata": {},
   "source": [
    "## Changing the model ingredients"
   ]
  },
  {
   "cell_type": "code",
   "execution_count": 2,
   "id": "26072e56",
   "metadata": {},
   "outputs": [
    {
     "name": "stdout",
     "output_type": "stream",
     "text": [
      "('init_classical', <function init_classical_boltzmann_harmonic at 0x76adb672dc60>)\n",
      "[('init_classical', <function init_classical_wigner_harmonic at 0x76adb672dcf0>), ('h_q', <function h_q_two_level at 0x76adb672d900>), ('h_qc', <function h_qc_diagonal_linear at 0x76adb672da20>), ('h_c', <function h_c_harmonic at 0x76adb6717c70>), ('dh_qc_dzc', <function dh_qc_dzc_diagonal_linear at 0x76adb672dab0>), ('dh_c_dzc', <function dh_c_dzc_harmonic at 0x76adb672d7e0>), ('init_classical', <function init_classical_boltzmann_harmonic at 0x76adb672dc60>), ('hop', <function hop_harmonic at 0x76adb672db40>), ('_init_h_q', <function SpinBoson._init_h_q at 0x76adb672e560>), ('_init_h_qc', <function SpinBoson._init_h_qc at 0x76adb672e5f0>), ('_init_model', <function SpinBoson._init_model at 0x76adb672e710>), ('_init_h_c', <function SpinBoson._init_h_c at 0x76adb672e680>)]\n",
      "('dh_c_dzc', <function dh_c_dzc_harmonic at 0x76adb672d7e0>)\n"
     ]
    },
    {
     "name": "stderr",
     "output_type": "stream",
     "text": [
      "100%|██████████| 10001/10001 [00:01<00:00, 5093.15it/s]\n",
      "100%|██████████| 10001/10001 [00:01<00:00, 5371.41it/s]\n",
      "100%|██████████| 10001/10001 [00:01<00:00, 5736.43it/s]\n",
      "100%|██████████| 10001/10001 [00:01<00:00, 5796.48it/s]\n",
      "100%|██████████| 10001/10001 [00:02<00:00, 4221.88it/s]\n",
      "100%|██████████| 10001/10001 [00:02<00:00, 4119.91it/s]\n",
      "100%|██████████| 10001/10001 [00:02<00:00, 4065.09it/s]\n",
      "100%|██████████| 10001/10001 [00:02<00:00, 3886.14it/s]\n"
     ]
    }
   ],
   "source": [
    "from qclab import Simulation\n",
    "from qclab.dynamics import serial_driver, parallel_driver_multiprocessing\n",
    "from qclab.models import SpinBoson\n",
    "from qclab.algorithms import MeanField\n",
    "import numpy as np\n",
    "from qclab.ingredients import init_classical_wigner_harmonic\n",
    "\n",
    "sim_settings = {\"num_trajs\":100,\"batch_size\":25}\n",
    "\n",
    "sim = Simulation(sim_settings)\n",
    "sim.model = SpinBoson()\n",
    "sim.algorithm = MeanField()\n",
    "sim.initial_state.wf_db = np.array([1.0, 0.0], dtype=complex)\n",
    "print(sim.model.ingredients[5])\n",
    "# change the init_classical ingredient from boltzmann to wigner.\n",
    "sim.model.ingredients.insert(0,('init_classical', init_classical_wigner_harmonic))\n",
    "print(sim.model.ingredients)\n",
    "print(sim.model.ingredients[5])\n",
    "data = serial_driver(sim)\n",
    "data = parallel_driver_multiprocessing(sim)"
   ]
  },
  {
   "cell_type": "markdown",
   "id": "15fa2a0e",
   "metadata": {},
   "source": [
    "## Changing algorithm tasks"
   ]
  },
  {
   "cell_type": "code",
   "execution_count": 6,
   "id": "4ce1caa7",
   "metadata": {},
   "outputs": [
    {
     "name": "stdout",
     "output_type": "stream",
     "text": [
      "[<function update_t at 0x76adb672fac0>, <function update_dm_db_mf at 0x76adb6758e50>, functools.partial(<function update_quantum_energy at 0x76adb6759000>, wf='wf_db'), functools.partial(<function update_classical_energy at 0x76adb6758ee0>, z='z'), <function collect_t at 0x76adb6759240>, <function collect_dm_db at 0x76adb67592d0>, <function collect_classical_energy at 0x76adb6759360>, <function collect_quantum_energy at 0x76adb67593f0>]\n",
      "[<function update_t at 0x76adb672fac0>, <function update_dm_db_mf at 0x76adb6758e50>, functools.partial(<function update_quantum_energy at 0x76adb6759000>, wf='wf_db'), functools.partial(<function update_classical_energy at 0x76adb6758ee0>, z='z'), <function collect_t at 0x76adb6759240>, <function collect_dm_db at 0x76adb67592d0>, <function collect_classical_energy at 0x76adb6759360>, <function collect_quantum_energy at 0x76adb67593f0>, <function collect_response at 0x76ada9ae28c0>]\n"
     ]
    },
    {
     "name": "stderr",
     "output_type": "stream",
     "text": [
      "100%|██████████| 10001/10001 [00:01<00:00, 5014.15it/s]\n",
      "100%|██████████| 10001/10001 [00:01<00:00, 5200.00it/s]\n",
      "100%|██████████| 10001/10001 [00:01<00:00, 5299.85it/s]\n",
      "100%|██████████| 10001/10001 [00:01<00:00, 5622.65it/s]\n",
      "100%|██████████| 10001/10001 [00:02<00:00, 3619.02it/s]\n",
      "100%|██████████| 10001/10001 [00:02<00:00, 3531.66it/s]\n",
      "100%|██████████| 10001/10001 [00:02<00:00, 3527.67it/s]\n",
      "100%|██████████| 10001/10001 [00:02<00:00, 3511.79it/s]\n"
     ]
    }
   ],
   "source": [
    "from qclab import Simulation\n",
    "from qclab.dynamics import serial_driver, parallel_driver_multiprocessing\n",
    "from qclab.models import SpinBoson\n",
    "from qclab.algorithms import MeanField\n",
    "import numpy as np\n",
    "\n",
    "sim_settings = {\"num_trajs\":100,\"batch_size\":25}\n",
    "\n",
    "sim = Simulation(sim_settings)\n",
    "sim.model = SpinBoson()\n",
    "sim.algorithm = MeanField()\n",
    "sim.initial_state.wf_db = np.array([1.0, 0.0], dtype=complex)\n",
    "print(sim.algorithm.collect_recipe)\n",
    "def collect_response(sim, state, parameters):\n",
    "    # we can just calculate something simple like the response function\n",
    "    if sim.t_ind == 0:\n",
    "        state.wf_db_0 = np.copy(state.wf_db)\n",
    "    state.response = np.sum(np.conj(state.wf_db_0) * state.wf_db, axis=-1)\n",
    "    state.output_dict['response'] = state.response\n",
    "    return state, parameters\n",
    "sim.algorithm.collect_recipe.append(collect_response)\n",
    "print(sim.algorithm.collect_recipe)\n",
    "data = serial_driver(sim)\n",
    "data = parallel_driver_multiprocessing(sim)"
   ]
  },
  {
   "cell_type": "markdown",
   "id": "e92ae165",
   "metadata": {},
   "source": [
    "## User supplied seeds\n",
    "\n"
   ]
  },
  {
   "cell_type": "code",
   "execution_count": 7,
   "id": "3a2c7afb",
   "metadata": {},
   "outputs": [
    {
     "name": "stderr",
     "output_type": "stream",
     "text": [
      "100%|██████████| 10001/10001 [00:01<00:00, 5499.97it/s]\n",
      "100%|██████████| 10001/10001 [00:01<00:00, 5470.38it/s]\n",
      "100%|██████████| 10001/10001 [00:01<00:00, 5776.10it/s]\n",
      "100%|██████████| 10001/10001 [00:01<00:00, 5910.71it/s]"
     ]
    },
    {
     "name": "stdout",
     "output_type": "stream",
     "text": [
      "validated serial_driver with seeds\n"
     ]
    },
    {
     "name": "stderr",
     "output_type": "stream",
     "text": [
      "\n",
      "100%|██████████| 10001/10001 [00:02<00:00, 4251.65it/s]\n",
      "100%|██████████| 10001/10001 [00:02<00:00, 4153.10it/s]\n",
      "100%|██████████| 10001/10001 [00:02<00:00, 4062.20it/s]\n",
      "100%|██████████| 10001/10001 [00:02<00:00, 3885.26it/s]\n"
     ]
    },
    {
     "name": "stdout",
     "output_type": "stream",
     "text": [
      "validated parallel_driver_multiprocessing with seeds\n",
      "validated data consistency between serial and parallel drivers\n"
     ]
    }
   ],
   "source": [
    "np.random.seed(1234)\n",
    "\n",
    "my_seeds = np.unique(np.random.randint(0,10000, size=100))\n",
    "\n",
    "from qclab import Simulation\n",
    "from qclab.dynamics import serial_driver, parallel_driver_multiprocessing\n",
    "from qclab.models import SpinBoson\n",
    "from qclab.algorithms import MeanField\n",
    "import numpy as np\n",
    "\n",
    "sim_settings = {\"num_trajs\":100,\"batch_size\":25}\n",
    "\n",
    "sim = Simulation(sim_settings)\n",
    "sim.model = SpinBoson()\n",
    "sim.algorithm = MeanField()\n",
    "sim.initial_state.wf_db = np.array([1.0, 0.0], dtype=complex)\n",
    "data_serial = serial_driver(sim, seeds=my_seeds)\n",
    "\n",
    "assert np.all(data_serial.data_dict['seed'] == my_seeds)\n",
    "print('validated serial_driver with seeds')\n",
    "\n",
    "data_parallel = parallel_driver_multiprocessing(sim, seeds=my_seeds)\n",
    "\n",
    "assert np.all(data_parallel.data_dict['seed'] == my_seeds)\n",
    "print('validated parallel_driver_multiprocessing with seeds')\n",
    "\n",
    "for key, val in data_serial.data_dict.items():\n",
    "    if key in data_parallel.data_dict:\n",
    "        assert np.all(val == data_parallel.data_dict[key]), f\"Mismatch in {key} between serial and parallel drivers\"\n",
    "print('validated data consistency between serial and parallel drivers')\n"
   ]
  },
  {
   "cell_type": "markdown",
   "id": "3826a1a3",
   "metadata": {},
   "source": [
    "## User supplied data object"
   ]
  },
  {
   "cell_type": "code",
   "execution_count": 8,
   "id": "36771680",
   "metadata": {},
   "outputs": [
    {
     "name": "stderr",
     "output_type": "stream",
     "text": [
      "  0%|          | 0/10001 [00:00<?, ?it/s]"
     ]
    },
    {
     "name": "stderr",
     "output_type": "stream",
     "text": [
      "100%|██████████| 10001/10001 [00:01<00:00, 5174.62it/s]\n",
      "100%|██████████| 10001/10001 [00:01<00:00, 5163.63it/s]\n",
      "100%|██████████| 10001/10001 [00:01<00:00, 5835.22it/s]\n",
      "100%|██████████| 10001/10001 [00:01<00:00, 5705.24it/s]\n",
      "100%|██████████| 10001/10001 [00:01<00:00, 5489.81it/s]\n",
      "100%|██████████| 10001/10001 [00:01<00:00, 5558.05it/s]\n",
      "100%|██████████| 10001/10001 [00:01<00:00, 5883.56it/s]\n",
      "100%|██████████| 10001/10001 [00:01<00:00, 5427.76it/s]\n",
      "100%|██████████| 10001/10001 [00:01<00:00, 5521.84it/s]\n",
      "100%|██████████| 10001/10001 [00:01<00:00, 5677.48it/s]\n",
      "100%|██████████| 10001/10001 [00:01<00:00, 5903.45it/s]\n",
      "100%|██████████| 10001/10001 [00:01<00:00, 5828.38it/s]\n",
      "100%|██████████| 10001/10001 [00:01<00:00, 5668.03it/s]\n",
      "100%|██████████| 10001/10001 [00:01<00:00, 5051.38it/s]\n",
      "100%|██████████| 10001/10001 [00:01<00:00, 5920.87it/s]\n",
      "100%|██████████| 10001/10001 [00:01<00:00, 5732.04it/s]"
     ]
    },
    {
     "name": "stdout",
     "output_type": "stream",
     "text": [
      "validated data consistency between supplied data and new simulation\n"
     ]
    },
    {
     "name": "stderr",
     "output_type": "stream",
     "text": [
      "\n"
     ]
    }
   ],
   "source": [
    "## Serial\n",
    "from qclab import Simulation\n",
    "from qclab.dynamics import serial_driver, parallel_driver_multiprocessing\n",
    "from qclab.models import SpinBoson\n",
    "from qclab.algorithms import MeanField\n",
    "import numpy as np\n",
    "\n",
    "sim_settings = {\"num_trajs\":100,\"batch_size\":25}\n",
    "\n",
    "sim = Simulation(sim_settings)\n",
    "sim.model = SpinBoson()\n",
    "sim.algorithm = MeanField()\n",
    "sim.initial_state.wf_db = np.array([1.0, 0.0], dtype=complex)\n",
    "data_1 = serial_driver(sim)\n",
    "data_2 = serial_driver(sim, data=data_1)\n",
    "\n",
    "sim_settings = {\"num_trajs\":200,\"batch_size\":25}\n",
    "\n",
    "sim = Simulation(sim_settings)\n",
    "sim.model = SpinBoson()\n",
    "sim.algorithm = MeanField()\n",
    "sim.initial_state.wf_db = np.array([1.0, 0.0], dtype=complex)\n",
    "data_3 = serial_driver(sim)\n",
    "\n",
    "for key, val in data_3.data_dict.items():\n",
    "    if key in data_2.data_dict:\n",
    "        assert np.all(val == data_2.data_dict[key]), f\"Mismatch in {key}\"\n",
    "print('validated data consistency between supplied data and new simulation')"
   ]
  },
  {
   "cell_type": "code",
   "execution_count": 9,
   "id": "abfecc1c",
   "metadata": {},
   "outputs": [
    {
     "name": "stderr",
     "output_type": "stream",
     "text": [
      "100%|██████████| 10001/10001 [00:02<00:00, 3960.05it/s]\n",
      "100%|██████████| 10001/10001 [00:02<00:00, 3926.54it/s]\n",
      "100%|██████████| 10001/10001 [00:02<00:00, 3735.25it/s]\n",
      "100%|██████████| 10001/10001 [00:02<00:00, 3638.42it/s]\n",
      "100%|██████████| 10001/10001 [00:02<00:00, 4514.86it/s]\n",
      "100%|██████████| 10001/10001 [00:02<00:00, 4429.31it/s]\n",
      "100%|██████████| 10001/10001 [00:02<00:00, 4384.14it/s]\n",
      "100%|██████████| 10001/10001 [00:02<00:00, 4159.42it/s]\n"
     ]
    },
    {
     "name": "stdout",
     "output_type": "stream",
     "text": [
      "200\n"
     ]
    },
    {
     "name": "stderr",
     "output_type": "stream",
     "text": [
      "100%|██████████| 10001/10001 [00:04<00:00, 2308.64it/s]\n",
      "100%|██████████| 10001/10001 [00:04<00:00, 2244.08it/s]\n",
      "100%|██████████| 10001/10001 [00:04<00:00, 2225.55it/s]\n",
      "100%|██████████| 10001/10001 [00:04<00:00, 2210.35it/s]\n",
      "100%|██████████| 10001/10001 [00:04<00:00, 2181.10it/s]\n",
      "100%|██████████| 10001/10001 [00:04<00:00, 2164.27it/s]\n",
      "100%|██████████| 10001/10001 [00:04<00:00, 2139.95it/s]\n",
      "100%|██████████| 10001/10001 [00:04<00:00, 2103.76it/s]\n"
     ]
    },
    {
     "name": "stdout",
     "output_type": "stream",
     "text": [
      "Validating seed\n",
      "Validating norm_factor\n",
      "Validating t\n",
      "Validating dm_db\n",
      "Validating classical_energy\n",
      "Validating quantum_energy\n",
      "validated data consistency between supplied data and new simulation\n"
     ]
    }
   ],
   "source": [
    "## Parallel\n",
    "from qclab import Simulation\n",
    "from qclab.dynamics import serial_driver, parallel_driver_multiprocessing\n",
    "from qclab.models import SpinBoson\n",
    "from qclab.algorithms import MeanField\n",
    "import numpy as np\n",
    "\n",
    "sim_settings = {\"num_trajs\":100,\"batch_size\":25}\n",
    "\n",
    "sim = Simulation(sim_settings)\n",
    "sim.model = SpinBoson()\n",
    "sim.algorithm = MeanField()\n",
    "sim.initial_state.wf_db = np.array([1.0, 0.0], dtype=complex)\n",
    "data_1 = parallel_driver_multiprocessing(sim)\n",
    "data_2 = parallel_driver_multiprocessing(sim, data=data_1)\n",
    "print(len(data_2.data_dict['seed']))\n",
    "sim_settings = {\"num_trajs\":200,\"batch_size\":25}\n",
    "\n",
    "sim = Simulation(sim_settings)\n",
    "sim.model = SpinBoson()\n",
    "sim.algorithm = MeanField()\n",
    "sim.initial_state.wf_db = np.array([1.0, 0.0], dtype=complex)\n",
    "data_3 = parallel_driver_multiprocessing(sim)\n",
    "\n",
    "for key, val in data_3.data_dict.items():\n",
    "    if key in data_2.data_dict:\n",
    "        print(f\"Validating {key}\")\n",
    "        assert np.all(val == data_2.data_dict[key]), f\"Mismatch in {key}\"\n",
    "print('validated data consistency between supplied data and new simulation')"
   ]
  },
  {
   "cell_type": "code",
   "execution_count": null,
   "id": "55a72a91",
   "metadata": {},
   "outputs": [],
   "source": []
  }
 ],
 "metadata": {
  "kernelspec": {
   "display_name": ".venv",
   "language": "python",
   "name": "python3"
  },
  "language_info": {
   "codemirror_mode": {
    "name": "ipython",
    "version": 3
   },
   "file_extension": ".py",
   "mimetype": "text/x-python",
   "name": "python",
   "nbconvert_exporter": "python",
   "pygments_lexer": "ipython3",
   "version": "3.10.12"
  }
 },
 "nbformat": 4,
 "nbformat_minor": 5
}

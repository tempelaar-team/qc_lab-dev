{
 "cells": [
  {
   "cell_type": "markdown",
   "id": "8a0aec14",
   "metadata": {},
   "source": [
    "# Use case examples\n",
    "This notebook demonstrates different use-cases for QC Lab"
   ]
  },
  {
   "cell_type": "markdown",
   "id": "a5bf4380",
   "metadata": {},
   "source": [
    "## Running a default simulation"
   ]
  },
  {
   "cell_type": "code",
   "execution_count": 2,
   "id": "33072556",
   "metadata": {},
   "outputs": [
    {
     "name": "stderr",
     "output_type": "stream",
     "text": [
      "100%|██████████| 10001/10001 [00:03<00:00, 2664.35it/s]\n",
      "100%|██████████| 10001/10001 [00:01<00:00, 8485.83it/s]\n",
      "100%|██████████| 10001/10001 [00:01<00:00, 8178.02it/s]\n",
      "100%|██████████| 10001/10001 [00:01<00:00, 8142.72it/s]\n",
      "100%|██████████| 10001/10001 [00:01<00:00, 6034.35it/s]\n",
      "100%|██████████| 10001/10001 [00:01<00:00, 5950.64it/s]\n",
      "100%|██████████| 10001/10001 [00:01<00:00, 5621.91it/s]\n",
      "100%|██████████| 10001/10001 [00:01<00:00, 5515.50it/s]\n"
     ]
    }
   ],
   "source": [
    "from qclab import Simulation\n",
    "from qclab.dynamics import serial_driver, parallel_driver_multiprocessing\n",
    "from qclab.models import SpinBoson\n",
    "from qclab.algorithms import MeanField\n",
    "import numpy as np\n",
    "\n",
    "sim_settings = {\"num_trajs\":100,\"batch_size\":25}\n",
    "\n",
    "sim = Simulation(sim_settings)\n",
    "sim.model = SpinBoson()\n",
    "sim.algorithm = MeanField()\n",
    "sim.initial_state[\"wf_db\"] = np.array([1.0, 0.0], dtype=complex)\n",
    "data = serial_driver(sim)\n",
    "data = parallel_driver_multiprocessing(sim)"
   ]
  },
  {
   "cell_type": "markdown",
   "id": "dc6ecc9e",
   "metadata": {},
   "source": [
    "## Changing the model ingredients"
   ]
  },
  {
   "cell_type": "code",
   "execution_count": 3,
   "id": "26072e56",
   "metadata": {},
   "outputs": [
    {
     "name": "stdout",
     "output_type": "stream",
     "text": [
      "('init_classical', <function init_classical_boltzmann_harmonic at 0x783b34fbb880>)\n",
      "[('init_classical', <function init_classical_wigner_harmonic at 0x783b34fbb910>), ('h_q', <function h_q_two_level at 0x783b34fbb520>), ('h_qc', <function h_qc_diagonal_linear at 0x783b34fbb640>), ('h_c', <function h_c_harmonic at 0x783b34fb9a20>), ('dh_qc_dzc', <function dh_qc_dzc_diagonal_linear at 0x783b34fbb6d0>), ('dh_c_dzc', <function dh_c_dzc_harmonic at 0x783b34fbb400>), ('init_classical', <function init_classical_boltzmann_harmonic at 0x783b34fbb880>), ('hop', <function hop_harmonic at 0x783b34fbb760>), ('_init_h_q', <function SpinBoson._init_h_q at 0x783b34fe4310>), ('_init_h_qc', <function SpinBoson._init_h_qc at 0x783b34fe43a0>), ('_init_model', <function SpinBoson._init_model at 0x783b34fe44c0>), ('_init_h_c', <function SpinBoson._init_h_c at 0x783b34fe4430>)]\n",
      "('dh_c_dzc', <function dh_c_dzc_harmonic at 0x783b34fbb400>)\n"
     ]
    },
    {
     "name": "stderr",
     "output_type": "stream",
     "text": [
      "100%|██████████| 10001/10001 [00:01<00:00, 8257.49it/s]\n",
      "100%|██████████| 10001/10001 [00:01<00:00, 8302.77it/s]\n",
      "100%|██████████| 10001/10001 [00:01<00:00, 7912.66it/s]\n",
      "100%|██████████| 10001/10001 [00:01<00:00, 8260.55it/s]\n",
      "100%|██████████| 10001/10001 [00:01<00:00, 5759.42it/s]\n",
      "100%|██████████| 10001/10001 [00:01<00:00, 5529.90it/s]\n",
      "100%|██████████| 10001/10001 [00:01<00:00, 5263.33it/s]\n",
      "100%|██████████| 10001/10001 [00:02<00:00, 4991.65it/s]\n"
     ]
    }
   ],
   "source": [
    "from qclab import Simulation\n",
    "from qclab.dynamics import serial_driver, parallel_driver_multiprocessing\n",
    "from qclab.models import SpinBoson\n",
    "from qclab.algorithms import MeanField\n",
    "import numpy as np\n",
    "from qclab.ingredients import init_classical_wigner_harmonic\n",
    "\n",
    "sim_settings = {\"num_trajs\":100,\"batch_size\":25}\n",
    "\n",
    "sim = Simulation(sim_settings)\n",
    "sim.model = SpinBoson()\n",
    "sim.algorithm = MeanField()\n",
    "sim.initial_state[\"wf_db\"] = np.array([1.0, 0.0], dtype=complex)\n",
    "print(sim.model.ingredients[5])\n",
    "# change the init_classical ingredient from boltzmann to wigner.\n",
    "sim.model.ingredients.insert(0,('init_classical', init_classical_wigner_harmonic))\n",
    "print(sim.model.ingredients)\n",
    "print(sim.model.ingredients[5])\n",
    "data = serial_driver(sim)\n",
    "data = parallel_driver_multiprocessing(sim)"
   ]
  },
  {
   "cell_type": "markdown",
   "id": "15fa2a0e",
   "metadata": {},
   "source": [
    "## Changing algorithm tasks"
   ]
  },
  {
   "cell_type": "code",
   "execution_count": 4,
   "id": "4ce1caa7",
   "metadata": {},
   "outputs": [
    {
     "name": "stdout",
     "output_type": "stream",
     "text": [
      "[<function update_t at 0x783b34fe5900>, <function update_dm_db_wf at 0x783b34fe7370>, <function update_quantum_energy_wf at 0x783b34fe7520>, <function update_classical_energy at 0x783b34fe7400>, <function collect_t at 0x783b34fe7760>, <function collect_dm_db at 0x783b34fe77f0>, <function collect_classical_energy at 0x783b34fe7880>, <function collect_quantum_energy at 0x783b34fe7910>]\n",
      "[<function update_t at 0x783b34fe5900>, <function update_dm_db_wf at 0x783b34fe7370>, <function update_quantum_energy_wf at 0x783b34fe7520>, <function update_classical_energy at 0x783b34fe7400>, <function collect_t at 0x783b34fe7760>, <function collect_dm_db at 0x783b34fe77f0>, <function collect_classical_energy at 0x783b34fe7880>, <function collect_quantum_energy at 0x783b34fe7910>, <function collect_response at 0x783ae1f99900>]\n"
     ]
    },
    {
     "name": "stderr",
     "output_type": "stream",
     "text": [
      "100%|██████████| 10001/10001 [00:01<00:00, 8481.47it/s]\n",
      "100%|██████████| 10001/10001 [00:01<00:00, 8142.79it/s]\n",
      "100%|██████████| 10001/10001 [00:01<00:00, 8305.15it/s]\n",
      "100%|██████████| 10001/10001 [00:01<00:00, 8214.22it/s]\n",
      "100%|██████████| 10001/10001 [00:01<00:00, 5754.90it/s]\n",
      "100%|██████████| 10001/10001 [00:01<00:00, 5477.12it/s]\n",
      "100%|██████████| 10001/10001 [00:01<00:00, 5215.13it/s]\n",
      "100%|██████████| 10001/10001 [00:01<00:00, 5106.93it/s]\n"
     ]
    }
   ],
   "source": [
    "from qclab import Simulation\n",
    "from qclab.dynamics import serial_driver, parallel_driver_multiprocessing\n",
    "from qclab.models import SpinBoson\n",
    "from qclab.algorithms import MeanField\n",
    "import numpy as np\n",
    "\n",
    "sim_settings = {\"num_trajs\":100,\"batch_size\":25}\n",
    "\n",
    "sim = Simulation(sim_settings)\n",
    "sim.model = SpinBoson()\n",
    "sim.algorithm = MeanField()\n",
    "sim.initial_state[\"wf_db\"] = np.array([1.0, 0.0], dtype=complex)\n",
    "print(sim.algorithm.collect_recipe)\n",
    "def collect_response(sim, state, parameters):\n",
    "    # we can just calculate something simple like the response function\n",
    "    if sim.t_ind == 0:\n",
    "        state[\"wf_db_0\"] = np.copy(state[\"wf_db\"])\n",
    "    state[\"response\"] = np.sum(np.conj(state[\"wf_db_0\"]) * state[\"wf_db\"], axis=-1)\n",
    "    state[\"output_dict\"]['response'] = state[\"response\"]\n",
    "    return state, parameters\n",
    "sim.algorithm.collect_recipe.append(collect_response)\n",
    "print(sim.algorithm.collect_recipe)\n",
    "data = serial_driver(sim)\n",
    "data = parallel_driver_multiprocessing(sim)"
   ]
  },
  {
   "cell_type": "markdown",
   "id": "e92ae165",
   "metadata": {},
   "source": [
    "## User supplied seeds\n",
    "\n"
   ]
  },
  {
   "cell_type": "code",
   "execution_count": 5,
   "id": "3a2c7afb",
   "metadata": {},
   "outputs": [
    {
     "name": "stderr",
     "output_type": "stream",
     "text": [
      "100%|██████████| 10001/10001 [00:01<00:00, 8357.88it/s]\n",
      "100%|██████████| 10001/10001 [00:01<00:00, 8974.49it/s]\n",
      "100%|██████████| 10001/10001 [00:01<00:00, 8960.67it/s]\n",
      "100%|██████████| 10001/10001 [00:01<00:00, 8913.57it/s]"
     ]
    },
    {
     "name": "stdout",
     "output_type": "stream",
     "text": [
      "validated serial_driver with seeds\n"
     ]
    },
    {
     "name": "stderr",
     "output_type": "stream",
     "text": [
      "\n",
      "100%|██████████| 10001/10001 [00:01<00:00, 5722.79it/s]\n",
      "100%|██████████| 10001/10001 [00:01<00:00, 5701.91it/s]\n",
      "100%|██████████| 10001/10001 [00:01<00:00, 5373.15it/s]\n",
      "100%|██████████| 10001/10001 [00:01<00:00, 5332.93it/s]\n"
     ]
    },
    {
     "name": "stdout",
     "output_type": "stream",
     "text": [
      "validated parallel_driver_multiprocessing with seeds\n",
      "validated data consistency between serial and parallel drivers\n"
     ]
    }
   ],
   "source": [
    "np.random.seed(1234)\n",
    "\n",
    "my_seeds = np.unique(np.random.randint(0,10000, size=100))\n",
    "\n",
    "from qclab import Simulation\n",
    "from qclab.dynamics import serial_driver, parallel_driver_multiprocessing\n",
    "from qclab.models import SpinBoson\n",
    "from qclab.algorithms import MeanField\n",
    "import numpy as np\n",
    "\n",
    "sim_settings = {\"num_trajs\":100,\"batch_size\":25}\n",
    "\n",
    "sim = Simulation(sim_settings)\n",
    "sim.model = SpinBoson()\n",
    "sim.algorithm = MeanField()\n",
    "sim.initial_state[\"wf_db\"] = np.array([1.0, 0.0], dtype=complex)\n",
    "data_serial = serial_driver(sim, seeds=my_seeds)\n",
    "\n",
    "assert np.all(data_serial.data_dict['seed'] == my_seeds)\n",
    "print('validated serial_driver with seeds')\n",
    "\n",
    "data_parallel = parallel_driver_multiprocessing(sim, seeds=my_seeds)\n",
    "\n",
    "assert np.all(data_parallel.data_dict['seed'] == my_seeds)\n",
    "print('validated parallel_driver_multiprocessing with seeds')\n",
    "\n",
    "for key, val in data_serial.data_dict.items():\n",
    "    if key in data_parallel.data_dict:\n",
    "        assert np.all(val == data_parallel.data_dict[key]), f\"Mismatch in {key} between serial and parallel drivers\"\n",
    "print('validated data consistency between serial and parallel drivers')\n"
   ]
  },
  {
   "cell_type": "markdown",
   "id": "3826a1a3",
   "metadata": {},
   "source": [
    "## User supplied data object"
   ]
  },
  {
   "cell_type": "code",
   "execution_count": 6,
   "id": "36771680",
   "metadata": {},
   "outputs": [
    {
     "name": "stderr",
     "output_type": "stream",
     "text": [
      "100%|██████████| 10001/10001 [00:01<00:00, 8033.69it/s]\n",
      "100%|██████████| 10001/10001 [00:01<00:00, 8223.39it/s]\n",
      "100%|██████████| 10001/10001 [00:01<00:00, 8247.56it/s]\n",
      "100%|██████████| 10001/10001 [00:01<00:00, 8253.10it/s]\n",
      "100%|██████████| 10001/10001 [00:01<00:00, 7580.54it/s]\n",
      "100%|██████████| 10001/10001 [00:01<00:00, 7968.29it/s]\n",
      "100%|██████████| 10001/10001 [00:01<00:00, 8241.57it/s]\n",
      "100%|██████████| 10001/10001 [00:01<00:00, 8304.69it/s]\n",
      "100%|██████████| 10001/10001 [00:01<00:00, 8000.26it/s]\n",
      "100%|██████████| 10001/10001 [00:01<00:00, 7691.43it/s]\n",
      "100%|██████████| 10001/10001 [00:01<00:00, 7756.80it/s]\n",
      "100%|██████████| 10001/10001 [00:01<00:00, 7874.51it/s]\n",
      "100%|██████████| 10001/10001 [00:01<00:00, 7372.56it/s]\n",
      "100%|██████████| 10001/10001 [00:01<00:00, 6113.06it/s]\n",
      "100%|██████████| 10001/10001 [00:01<00:00, 5993.43it/s]\n",
      "100%|██████████| 10001/10001 [00:01<00:00, 5740.33it/s]"
     ]
    },
    {
     "name": "stdout",
     "output_type": "stream",
     "text": [
      "validated data consistency between supplied data and new simulation\n"
     ]
    },
    {
     "name": "stderr",
     "output_type": "stream",
     "text": [
      "\n"
     ]
    }
   ],
   "source": [
    "## Serial\n",
    "from qclab import Simulation\n",
    "from qclab.dynamics import serial_driver, parallel_driver_multiprocessing\n",
    "from qclab.models import SpinBoson\n",
    "from qclab.algorithms import MeanField\n",
    "import numpy as np\n",
    "\n",
    "sim_settings = {\"num_trajs\":100,\"batch_size\":25}\n",
    "\n",
    "sim = Simulation(sim_settings)\n",
    "sim.model = SpinBoson()\n",
    "sim.algorithm = MeanField()\n",
    "sim.initial_state[\"wf_db\"] = np.array([1.0, 0.0], dtype=complex)\n",
    "data_1 = serial_driver(sim)\n",
    "data_2 = serial_driver(sim, data=data_1)\n",
    "\n",
    "sim_settings = {\"num_trajs\":200,\"batch_size\":25}\n",
    "\n",
    "sim = Simulation(sim_settings)\n",
    "sim.model = SpinBoson()\n",
    "sim.algorithm = MeanField()\n",
    "sim.initial_state[\"wf_db\"] = np.array([1.0, 0.0], dtype=complex)\n",
    "data_3 = serial_driver(sim)\n",
    "\n",
    "for key, val in data_3.data_dict.items():\n",
    "    if key in data_2.data_dict:\n",
    "        assert np.all(val == data_2.data_dict[key]), f\"Mismatch in {key}\"\n",
    "print('validated data consistency between supplied data and new simulation')"
   ]
  },
  {
   "cell_type": "code",
   "execution_count": 7,
   "id": "abfecc1c",
   "metadata": {},
   "outputs": [
    {
     "name": "stderr",
     "output_type": "stream",
     "text": [
      "100%|██████████| 10001/10001 [00:01<00:00, 6348.51it/s]\n",
      "100%|██████████| 10001/10001 [00:01<00:00, 6021.06it/s]\n",
      "100%|██████████| 10001/10001 [00:01<00:00, 5466.72it/s]\n",
      "100%|██████████| 10001/10001 [00:01<00:00, 5293.27it/s]\n",
      "100%|██████████| 10001/10001 [00:02<00:00, 4784.00it/s]\n",
      "100%|██████████| 10001/10001 [00:02<00:00, 4753.88it/s]\n",
      "100%|██████████| 10001/10001 [00:02<00:00, 4682.56it/s]\n",
      "100%|██████████| 10001/10001 [00:02<00:00, 4657.57it/s]\n"
     ]
    },
    {
     "name": "stdout",
     "output_type": "stream",
     "text": [
      "200\n"
     ]
    },
    {
     "name": "stderr",
     "output_type": "stream",
     "text": [
      "100%|██████████| 10001/10001 [00:03<00:00, 3011.25it/s]\n",
      "100%|██████████| 10001/10001 [00:03<00:00, 3015.83it/s]\n",
      "100%|██████████| 10001/10001 [00:03<00:00, 2989.36it/s]\n",
      "100%|██████████| 10001/10001 [00:03<00:00, 2980.90it/s]\n",
      "100%|██████████| 10001/10001 [00:03<00:00, 2989.73it/s]\n",
      "100%|██████████| 10001/10001 [00:03<00:00, 2928.07it/s]\n",
      "100%|██████████| 10001/10001 [00:03<00:00, 2904.30it/s]\n",
      "100%|██████████| 10001/10001 [00:03<00:00, 2906.74it/s]\n"
     ]
    },
    {
     "name": "stdout",
     "output_type": "stream",
     "text": [
      "Validating seed\n",
      "Validating norm_factor\n",
      "Validating t\n",
      "Validating dm_db\n",
      "Validating classical_energy\n",
      "Validating quantum_energy\n",
      "validated data consistency between supplied data and new simulation\n"
     ]
    }
   ],
   "source": [
    "## Parallel\n",
    "from qclab import Simulation\n",
    "from qclab.dynamics import serial_driver, parallel_driver_multiprocessing\n",
    "from qclab.models import SpinBoson\n",
    "from qclab.algorithms import MeanField\n",
    "import numpy as np\n",
    "\n",
    "sim_settings = {\"num_trajs\":100,\"batch_size\":25}\n",
    "\n",
    "sim = Simulation(sim_settings)\n",
    "sim.model = SpinBoson()\n",
    "sim.algorithm = MeanField()\n",
    "sim.initial_state[\"wf_db\"] = np.array([1.0, 0.0], dtype=complex)\n",
    "data_1 = parallel_driver_multiprocessing(sim)\n",
    "data_2 = parallel_driver_multiprocessing(sim, data=data_1)\n",
    "print(len(data_2.data_dict['seed']))\n",
    "sim_settings = {\"num_trajs\":200,\"batch_size\":25}\n",
    "\n",
    "sim = Simulation(sim_settings)\n",
    "sim.model = SpinBoson()\n",
    "sim.algorithm = MeanField()\n",
    "sim.initial_state[\"wf_db\"] = np.array([1.0, 0.0], dtype=complex)\n",
    "data_3 = parallel_driver_multiprocessing(sim)\n",
    "\n",
    "for key, val in data_3.data_dict.items():\n",
    "    if key in data_2.data_dict:\n",
    "        print(f\"Validating {key}\")\n",
    "        assert np.all(val == data_2.data_dict[key]), f\"Mismatch in {key}\"\n",
    "print('validated data consistency between supplied data and new simulation')"
   ]
  },
  {
   "cell_type": "code",
   "execution_count": null,
   "id": "55a72a91",
   "metadata": {},
   "outputs": [],
   "source": []
  }
 ],
 "metadata": {
  "kernelspec": {
   "display_name": ".venv",
   "language": "python",
   "name": "python3"
  },
  "language_info": {
   "codemirror_mode": {
    "name": "ipython",
    "version": 3
   },
   "file_extension": ".py",
   "mimetype": "text/x-python",
   "name": "python",
   "nbconvert_exporter": "python",
   "pygments_lexer": "ipython3",
   "version": "3.10.12"
  }
 },
 "nbformat": 4,
 "nbformat_minor": 5
}

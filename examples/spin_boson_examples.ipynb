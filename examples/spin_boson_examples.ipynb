{
 "cells": [
  {
   "cell_type": "code",
   "execution_count": 1,
   "metadata": {},
   "outputs": [
    {
     "name": "stderr",
     "output_type": "stream",
     "text": [
      "/home/akrotz/Research/pyMQC/.venv/lib/python3.10/site-packages/tqdm/auto.py:21: TqdmWarning: IProgress not found. Please update jupyter and ipywidgets. See https://ipywidgets.readthedocs.io/en/stable/user_install.html\n",
      "  from .autonotebook import tqdm as notebook_tqdm\n",
      "2024-07-06 18:38:08,294\tINFO util.py:154 -- Missing packages: ['ipywidgets']. Run `pip install -U ipywidgets`, then restart the notebook server for rich notebook output.\n"
     ]
    }
   ],
   "source": [
    "import numpy as np\n",
    "import matplotlib.pyplot as plt\n",
    "import qclab.simulation as simulation\n",
    "from qclab.models.spin_boson import SpinBosonModel\n",
    "from qclab.drivers.ray_driver import dynamics_parallel_ray"
   ]
  },
  {
   "cell_type": "code",
   "execution_count": 2,
   "metadata": {},
   "outputs": [
    {
     "name": "stderr",
     "output_type": "stream",
     "text": [
      "2024-07-06 18:38:11,240\tINFO worker.py:1771 -- Started a local Ray instance.\n",
      "100%|██████████| 26/26 [01:48<00:00,  4.18s/it]\n"
     ]
    }
   ],
   "source": [
    "input_params = dict(temp = 1, V=0.5, E=0.5, A=100, W=0.1, l=0.02/4)\n",
    "sim = SpinBosonModel(input_params = input_params)\n",
    "\n",
    "sim.dynamics_method='FSSH'\n",
    "sim.sh_deterministic = True # default to sh_deterministic, set num_branches = num_states\n",
    "sim.num_branches = 2\n",
    "sim.num_trajs = 1\n",
    "sim.tmax=int(1/0.0260677)+1\n",
    "sim.dt=0.01\n",
    "sim.dt_bath=1/(10*sim.w[-1])\n",
    "sim.pab_cohere = True\n",
    "sim.dmat_const = 0\n",
    "sim.calc_fssh_obs = True\n",
    "sim.calc_mf_obs = False\n",
    "sim.gauge_fix = 0\n",
    "\n",
    "sim.psi_db_0 = np.zeros((sim.num_states),dtype=complex)\n",
    "sim.psi_db_0[0] = 1\n",
    "\n",
    "nprocs = 8\n",
    "num_seeds = 200*sim.num_trajs\n",
    "seeds = np.arange(0, num_seeds)\n",
    "data_fssh = dynamics_parallel_ray(sim, seeds, nprocs, simulation.Data())\n"
   ]
  },
  {
   "cell_type": "code",
   "execution_count": 3,
   "metadata": {},
   "outputs": [
    {
     "name": "stderr",
     "output_type": "stream",
     "text": [
      "2024-07-06 17:34:39,513\tINFO worker.py:1518 -- Started a local Ray instance.\n",
      " 65%|██████▌   | 17/26 [01:56<00:55,  6.11s/it]"
     ]
    }
   ],
   "source": [
    "input_params = dict(temp = 1, V=0.5, E=0.5, A=100, W=0.1, l=0.02/4)\n",
    "sim = SpinBosonModel(input_params = input_params)\n",
    "sim.dynamics_method='CFSSH'\n",
    "sim.num_branches = 2\n",
    "sim.num_trajs = 1\n",
    "sim.tmax=int(1/0.0260677)+1\n",
    "sim.dt=0.01\n",
    "sim.dt_bath=1/(10*sim.w[-1])\n",
    "sim.sh_deterministic = True\n",
    "sim.pab_cohere = False\n",
    "sim.dmat_const = 0\n",
    "sim.calc_cfssh_obs = True\n",
    "sim.calc_mf_obs = False\n",
    "sim.gauge_fix = 0\n",
    "\n",
    "sim.psi_db_0 = np.zeros((sim.num_states),dtype=complex)\n",
    "sim.psi_db_0[0] = 1\n",
    "\n",
    "nprocs = 8\n",
    "num_seeds = 200*sim.num_trajs\n",
    "seeds = np.arange(0, num_seeds)\n",
    "data_cfssh0 = dynamics_parallel_ray(sim, seeds, nprocs, simulation.Data())"
   ]
  },
  {
   "cell_type": "code",
   "execution_count": null,
   "metadata": {},
   "outputs": [],
   "source": []
  }
 ],
 "metadata": {
  "kernelspec": {
   "display_name": "Python 3",
   "language": "python",
   "name": "python3"
  },
  "language_info": {
   "codemirror_mode": {
    "name": "ipython",
    "version": 3
   },
   "file_extension": ".py",
   "mimetype": "text/x-python",
   "name": "python",
   "nbconvert_exporter": "python",
   "pygments_lexer": "ipython3",
   "version": "3.10.12"
  }
 },
 "nbformat": 4,
 "nbformat_minor": 2
}

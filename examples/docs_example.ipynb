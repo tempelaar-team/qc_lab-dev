    "            z = np.sqrt(h * m / 2) * (q + 1j * (p / (h * m)))\n",
